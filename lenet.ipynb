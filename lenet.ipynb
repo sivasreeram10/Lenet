{
  "nbformat": 4,
  "nbformat_minor": 0,
  "metadata": {
    "colab": {
      "provenance": [],
      "authorship_tag": "ABX9TyPG6GzPzdEv+qEOx9fVMPKy",
      "include_colab_link": true
    },
    "kernelspec": {
      "name": "python3",
      "display_name": "Python 3"
    },
    "language_info": {
      "name": "python"
    }
  },
  "cells": [
    {
      "cell_type": "markdown",
      "metadata": {
        "id": "view-in-github",
        "colab_type": "text"
      },
      "source": [
        "<a href=\"https://colab.research.google.com/github/sivasreeram10/Lenet/blob/main/lenet.ipynb\" target=\"_parent\"><img src=\"https://colab.research.google.com/assets/colab-badge.svg\" alt=\"Open In Colab\"/></a>"
      ]
    },
    {
      "cell_type": "code",
      "execution_count": null,
      "metadata": {
        "id": "a3fXgat_lnav"
      },
      "outputs": [],
      "source": [
        "import tensorflow as tf\n",
        "from tensorflow.keras import layers, models\n",
        "import matplotlib.pyplot as plt\n",
        "import numpy as np\n",
        "from tensorflow.keras.preprocessing.image import ImageDataGenerator\n",
        "\n",
        "# 1. Load and preprocess dataset\n",
        "# Assuming your dataset is organized as:\n",
        "# dataset/\n",
        "#    train/\n",
        "#        healthy/\n",
        "#        diseased/\n",
        "#    validation/\n",
        "#        healthy/\n",
        "#        diseased/\n",
        "\n",
        "train_dir = 'path_to_your_train_directory'\n",
        "validation_dir = 'path_to_your_validation_directory'\n",
        "\n",
        "# Preprocessing with ImageDataGenerator\n",
        "train_datagen = ImageDataGenerator(rescale=1./255, rotation_range=20, width_shift_range=0.2, height_shift_range=0.2, shear_range=0.2, zoom_range=0.2, horizontal_flip=True)\n",
        "validation_datagen = ImageDataGenerator(rescale=1./255)\n",
        "\n",
        "train_generator = train_datagen.flow_from_directory(train_dir, target_size=(32, 32), batch_size=32, class_mode='binary')\n",
        "validation_generator = validation_datagen.flow_from_directory(validation_dir, target_size=(32, 32), batch_size=32, class_mode='binary')\n",
        "\n",
        "# 2. Build LeNet Model\n",
        "model = models.Sequential()\n",
        "\n",
        "# Convolutional Layer 1\n",
        "model.add(layers.Conv2D(6, (5, 5), activation='tanh', input_shape=(32, 32, 3)))\n",
        "model.add(layers.AvgPool2D(pool_size=(2, 2), strides=2))\n",
        "\n",
        "# Convolutional Layer 2\n",
        "model.add(layers.Conv2D(16, (5, 5), activation='tanh'))\n",
        "model.add(layers.AvgPool2D(pool_size=(2, 2), strides=2))\n",
        "\n",
        "# Flatten the 3D matrix to a 1D vector\n",
        "model.add(layers.Flatten())\n",
        "\n",
        "# Fully Connected Layer 1\n",
        "model.add(layers.Dense(120, activation='tanh'))\n",
        "\n",
        "# Fully Connected Layer 2\n",
        "model.add(layers.Dense(84, activation='tanh'))\n",
        "\n",
        "# Output Layer\n",
        "model.add(layers.Dense(1, activation='sigmoid'))  # Binary classification: Healthy or Diseased\n",
        "\n",
        "# 3. Compile the Model\n",
        "model.compile(optimizer='adam', loss='binary_crossentropy', metrics=['accuracy'])\n",
        "\n",
        "# 4. Train the Model\n",
        "history = model.fit(train_generator, epochs=10, validation_data=validation_generator)\n",
        "\n",
        "# 5. Evaluate the Model\n",
        "val_loss, val_acc = model.evaluate(validation_generator)\n",
        "print(f\"Validation Accuracy: {val_acc * 100:.2f}%\")\n",
        "\n",
        "# 6. Plotting the training and validation accuracy/loss\n",
        "plt.figure(figsize=(12, 4))\n",
        "\n",
        "# Accuracy plot\n",
        "plt.subplot(1, 2, 1)\n",
        "plt.plot(history.history['accuracy'], label='Training Accuracy')\n",
        "plt.plot(history.history['val_accuracy'], label='Validation Accuracy')\n",
        "plt.title('Accuracy Over Epochs')\n",
        "plt.xlabel('Epochs')\n",
        "plt.ylabel('Accuracy')\n",
        "plt.legend()\n",
        "\n",
        "# Loss plot\n",
        "plt.subplot(1, 2, 2)\n",
        "plt.plot(history.history['loss'], label='Training Loss')\n",
        "plt.plot(history.history['val_loss'], label='Validation Loss')\n",
        "plt.title('Loss Over Epochs')\n",
        "plt.xlabel('Epochs')\n",
        "plt.ylabel('Loss')\n",
        "plt.legend()\n",
        "\n",
        "plt.show()\n",
        "\n",
        "# 7. Save the Model (optional)\n",
        "model.save('banana_plant_disease_detection_lenet.h5')\n"
      ]
    }
  ]
}